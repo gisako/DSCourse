{
 "cells": [
  {
   "cell_type": "markdown",
   "id": "f4adb1ab-4e55-44c2-8252-54e63de652bd",
   "metadata": {},
   "source": [
    "# Data Science Tools and Ecosystem"
   ]
  },
  {
   "cell_type": "markdown",
   "id": "76d976f5-c29b-4a06-823d-12e64adb8df5",
   "metadata": {},
   "source": [
    "In this notebook, Data Science Tools and Ecosystem are summarized."
   ]
  },
  {
   "cell_type": "markdown",
   "id": "86dad739-2a1a-4a10-9aa1-1aa940ba6fcf",
   "metadata": {},
   "source": [
    "***Objectives:***\n",
    "\n",
    "* List popular languages for Data Science.\n",
    "* List popular libraries for Data Science.\n",
    "* List popular Data Science tools."
   ]
  },
  {
   "cell_type": "markdown",
   "id": "09e4e8c0-8652-4266-9b2a-dc7ec14e22e6",
   "metadata": {},
   "source": [
    "Some of the popular languages that Data Scientists use are:\n",
    "\n",
    "1. Python\n",
    "2. R\n",
    "3. Rust\n",
    "4. Java\n"
   ]
  },
  {
   "cell_type": "markdown",
   "id": "d58788e4-b8c0-4c50-be97-0bc3ab203bc3",
   "metadata": {},
   "source": [
    "Some of the commonly used libraries used by Data Scientists include:\n",
    "\n",
    "1. Numpy\n",
    "2. Pandas\n",
    "3. PyTorch\n",
    "4. TensorFlow\n",
    "   "
   ]
  },
  {
   "cell_type": "markdown",
   "id": "24c79d98-365b-4ebd-aa30-ac414677a30b",
   "metadata": {},
   "source": [
    "| Data Science Tools |\n",
    "|---------------------|\n",
    "| Anaconda |\n",
    "| RStudio |\n",
    "| Jupyter |"
   ]
  },
  {
   "cell_type": "markdown",
   "id": "bce1a3b7-fe09-4ea4-bca5-c8fa22790863",
   "metadata": {},
   "source": [
    "### Below are a few examples of evaluating arithmetic expressions in Python."
   ]
  },
  {
   "cell_type": "code",
   "execution_count": 3,
   "id": "7c9d54a9-bd65-41f6-a2a2-0822e3c20dc0",
   "metadata": {},
   "outputs": [
    {
     "data": {
      "text/plain": [
       "17"
      ]
     },
     "execution_count": 3,
     "metadata": {},
     "output_type": "execute_result"
    }
   ],
   "source": [
    "# This a simple arithmetic expression to mutiply then add integers.\n",
    "(3*4)+5"
   ]
  },
  {
   "cell_type": "code",
   "execution_count": 4,
   "id": "0e1de316-aef8-4cf2-9d60-815bea66e8ad",
   "metadata": {},
   "outputs": [
    {
     "name": "stdout",
     "output_type": "stream",
     "text": [
      "3.3333333333333335\n"
     ]
    }
   ],
   "source": [
    "# This will convert 200 minutes to hours by diving by 60.\n",
    "hours = 200/60\n",
    "print(hours)"
   ]
  },
  {
   "cell_type": "markdown",
   "id": "a285463b-6dd9-4dad-b70f-f83af2e2335b",
   "metadata": {},
   "source": [
    "## Author\n",
    "Rajesh Manickadas"
   ]
  }
 ],
 "metadata": {
  "kernelspec": {
   "display_name": "Python 3 (ipykernel)",
   "language": "python",
   "name": "python3"
  },
  "language_info": {
   "codemirror_mode": {
    "name": "ipython",
    "version": 3
   },
   "file_extension": ".py",
   "mimetype": "text/x-python",
   "name": "python",
   "nbconvert_exporter": "python",
   "pygments_lexer": "ipython3",
   "version": "3.12.8"
  }
 },
 "nbformat": 4,
 "nbformat_minor": 5
}
